{
 "cells": [
  {
   "cell_type": "code",
   "execution_count": 6,
   "metadata": {},
   "outputs": [
    {
     "name": "stdout",
     "output_type": "stream",
     "text": [
      "value of a = 10\n",
      "hello duniya\n"
     ]
    }
   ],
   "source": [
    "n=eval(input(\"Enter a value\"))\n",
    "print(\"value of a =\",n)\n",
    "if n==25:\n",
    "    print(\"hello\")\n",
    "elif n==15:\n",
    "    print(\"hello world\")\n",
    "elif n==10:\n",
    "    print(\"hello duniya\")\n",
    "elif n==5:\n",
    "    n=n+5\n",
    "    print(\"After result valur of n = \", n)\n",
    "else:\n",
    "    print(\"Invalid data\")\n"
   ]
  }
 ],
 "metadata": {
  "kernelspec": {
   "display_name": "base",
   "language": "python",
   "name": "python3"
  },
  "language_info": {
   "codemirror_mode": {
    "name": "ipython",
    "version": 3
   },
   "file_extension": ".py",
   "mimetype": "text/x-python",
   "name": "python",
   "nbconvert_exporter": "python",
   "pygments_lexer": "ipython3",
   "version": "3.10.9"
  },
  "orig_nbformat": 4
 },
 "nbformat": 4,
 "nbformat_minor": 2
}
