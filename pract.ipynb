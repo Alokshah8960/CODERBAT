{
 "cells": [
  {
   "cell_type": "code",
   "execution_count": 6,
   "metadata": {},
   "outputs": [
    {
     "name": "stdout",
     "output_type": "stream",
     "text": [
      "value of a = 10\n",
      "hello duniya\n"
     ]
    }
   ],
   "source": [
    "n=eval(input(\"Enter a value\"))\n",
    "print(\"value of a =\",n)\n",
    "if n==25:\n",
    "    print(\"hello\")\n",
    "elif n==15:\n",
    "    print(\"hello world\")\n",
    "elif n==10:\n",
    "    print(\"hello duniya\")\n",
    "elif n==5:\n",
    "    n=n+5\n",
    "    print(\"After result valur of n = \", n)\n",
    "else:\n",
    "    print(\"Invalid data\")\n"
   ]
  },
  {
   "attachments": {},
   "cell_type": "markdown",
   "metadata": {},
   "source": [
    "# practice"
   ]
  },
  {
   "cell_type": "code",
   "execution_count": 2,
   "metadata": {},
   "outputs": [
    {
     "name": "stdout",
     "output_type": "stream",
     "text": [
      "24\n",
      "total apps:24\n"
     ]
    }
   ],
   "source": [
    "l= [\"whatsapp\",\"facebook\",\"instagram\",\"snapchat\",\"youtube\",\"irctc\",\"redbus\",\"zoro\",\"radio\",\"gboard\",\"makemytrip\",\"ixigo\",\"zedge\",\"byjus\",\"spotify\",\"wikipedia\",\"castle\",\"canva\",\"inshot\",\"phonepe\",\"paytm\",\"gpay\",\"samsungmax\",\"mxplayer\"]\n",
    "print(len(l))\n",
    "print(f'total apps:{len(l)}')\n"
   ]
  },
  {
   "cell_type": "code",
   "execution_count": 1,
   "metadata": {},
   "outputs": [
    {
     "name": "stdout",
     "output_type": "stream",
     "text": [
      "hello world  25\n"
     ]
    }
   ],
   "source": [
    "a=eval(input(\"Enter value\"))\n",
    "print(f'hello world ',a)\n",
    "\n"
   ]
  },
  {
   "cell_type": "code",
   "execution_count": 5,
   "metadata": {},
   "outputs": [
    {
     "name": "stdout",
     "output_type": "stream",
     "text": [
      "[2, 5, 8, 9, 'B', 'C', 'Snapchat', 'Twitter']\n",
      "[8, 9, 'B', 'C', 'Snapchat', 'Twitter']\n",
      "[2, 5]\n"
     ]
    }
   ],
   "source": [
    "a=[2,5,8,9,'B','C',\"Snapchat\",\"Twitter\"]\n",
    "print(a[:])\n",
    "print(a[2:])\n",
    "print(a[0:2])"
   ]
  },
  {
   "cell_type": "code",
   "execution_count": 2,
   "metadata": {},
   "outputs": [
    {
     "name": "stdout",
     "output_type": "stream",
     "text": [
      "Congrats...signin successfully \n",
      "alokk896088\n",
      "alok897@gnail.com\n"
     ]
    }
   ],
   "source": [
    "un=input(\"Enter your name like username \")\n",
    "em=input(\"Enter your Email id\")\n",
    "ps=input(\"Enter password\")\n",
    "ps2= input(\"Enter confirm password\")\n",
    "\n",
    "if len(un)>=5 and len(un)<=26:\n",
    "    if '@' in em and em.islower() and len(em) >15:\n",
    "        if len(ps)>=8 or len(ps)<=15 and ps!=un:\n",
    "            if ps==ps2:\n",
    "                print(\"Congrats...signin successfully \")\n",
    "                print(un)\n",
    "                print(em)\n",
    "            else:\n",
    "                print(\"password not match\")\n",
    "        else:\n",
    "            print(\"please enter password length between 8 to 15 \")     \n",
    "    else:\n",
    "      print(\"Incorrect email id (please enter valid email id)\")\n",
    "else:\n",
    "    print(\"Invaild username\")\n"
   ]
  }
 ],
 "metadata": {
  "kernelspec": {
   "display_name": "base",
   "language": "python",
   "name": "python3"
  },
  "language_info": {
   "codemirror_mode": {
    "name": "ipython",
    "version": 3
   },
   "file_extension": ".py",
   "mimetype": "text/x-python",
   "name": "python",
   "nbconvert_exporter": "python",
   "pygments_lexer": "ipython3",
   "version": "3.10.9"
  },
  "orig_nbformat": 4
 },
 "nbformat": 4,
 "nbformat_minor": 2
}
