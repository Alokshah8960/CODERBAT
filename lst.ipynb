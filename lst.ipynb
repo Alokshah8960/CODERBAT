{
 "cells": [
  {
   "attachments": {},
   "cell_type": "markdown",
   "metadata": {},
   "source": [
    "# list (some using functions )"
   ]
  },
  {
   "cell_type": "code",
   "execution_count": 3,
   "metadata": {},
   "outputs": [
    {
     "name": "stdout",
     "output_type": "stream",
     "text": [
      "['hindi', 'english', 'maths', 'maths', 'physics', 'chemistry', 'maths', 'biology', 'history', 'civics', 'geography', 'evs', 'arts']\n",
      "type function\n",
      "len\n",
      "13\n"
     ]
    }
   ],
   "source": [
    "lit = [\"hindi\",\"english\",\"maths\",\"maths\",\"physics\",\"chemistry\",\"maths\",\"biology\",\"history\",\"civics\",\"geography\",\"evs\",\"arts\"]\n",
    "print(lit)\n",
    "print(\"type function\")\n",
    "type(lit)\n",
    "print(\"len\")\n",
    "print(len(lit))\n",
    "\n",
    "\n"
   ]
  },
  {
   "attachments": {},
   "cell_type": "markdown",
   "metadata": {},
   "source": [
    "# append function"
   ]
  },
  {
   "cell_type": "code",
   "execution_count": 4,
   "metadata": {},
   "outputs": [
    {
     "name": "stdout",
     "output_type": "stream",
     "text": [
      "['hindi', 'english', 'maths', 'maths', 'physics', 'chemistry', 'maths', 'biology', 'history', 'civics', 'geography', 'evs', 'arts', 'maths subject']\n"
     ]
    }
   ],
   "source": [
    "lit.append(\"maths subject\")\n",
    "print(lit)"
   ]
  },
  {
   "attachments": {},
   "cell_type": "markdown",
   "metadata": {},
   "source": [
    "# insert function"
   ]
  },
  {
   "cell_type": "code",
   "execution_count": 5,
   "metadata": {},
   "outputs": [
    {
     "name": "stdout",
     "output_type": "stream",
     "text": [
      "['machine learning', 'hindi', 'english', 'maths', 'maths', 'physics', 'chemistry', 'maths', 'biology', 'history', 'civics', 'geography', 'evs', 'arts', 'maths subject']\n"
     ]
    }
   ],
   "source": [
    "lit.insert(0,\"machine learning\")\n",
    "print(lit)\n"
   ]
  },
  {
   "attachments": {},
   "cell_type": "markdown",
   "metadata": {},
   "source": [
    "# remove function"
   ]
  },
  {
   "cell_type": "code",
   "execution_count": 6,
   "metadata": {},
   "outputs": [
    {
     "name": "stdout",
     "output_type": "stream",
     "text": [
      "['machine learning', 'hindi', 'english', 'maths', 'physics', 'chemistry', 'maths', 'biology', 'history', 'civics', 'geography', 'evs', 'arts', 'maths subject']\n"
     ]
    }
   ],
   "source": [
    "lit.remove(\"maths\")\n",
    "print(lit)"
   ]
  },
  {
   "cell_type": "code",
   "execution_count": 7,
   "metadata": {},
   "outputs": [
    {
     "name": "stdout",
     "output_type": "stream",
     "text": [
      "['rice', 'friedrice', 'momos', 'kulfi', 'manchurian', 'vadapav', 'chai', 'shake', 'lassi']\n"
     ]
    }
   ],
   "source": [
    "m= ['rice','momos','friedrice','momos','kulfi','manchurian','vadapav','chai','shake','lassi']\n",
    "m.remove('momos')\n",
    "print(m)"
   ]
  },
  {
   "attachments": {},
   "cell_type": "markdown",
   "metadata": {},
   "source": [
    "# pop function "
   ]
  },
  {
   "cell_type": "code",
   "execution_count": 10,
   "metadata": {},
   "outputs": [
    {
     "name": "stdout",
     "output_type": "stream",
     "text": [
      "['machine learning', 'hindi', 'english', 'physics', 'chemistry', 'maths', 'biology', 'history', 'civics', 'geography', 'evs', 'arts', 'maths subject']\n"
     ]
    }
   ],
   "source": [
    "lit.pop(3)\n",
    "print(lit)"
   ]
  },
  {
   "attachments": {},
   "cell_type": "markdown",
   "metadata": {},
   "source": [
    "# clear function "
   ]
  },
  {
   "cell_type": "code",
   "execution_count": null,
   "metadata": {},
   "outputs": [],
   "source": []
  },
  {
   "attachments": {},
   "cell_type": "markdown",
   "metadata": {},
   "source": [
    "# reverse function"
   ]
  },
  {
   "cell_type": "code",
   "execution_count": 12,
   "metadata": {},
   "outputs": [
    {
     "name": "stdout",
     "output_type": "stream",
     "text": [
      "['maths subject', 'arts', 'evs', 'geography', 'civics', 'history', 'biology', 'maths', 'chemistry', 'physics', 'english', 'hindi', 'machine learning']\n"
     ]
    }
   ],
   "source": [
    "lit.reverse()\n",
    "print(lit)"
   ]
  },
  {
   "attachments": {},
   "cell_type": "markdown",
   "metadata": {},
   "source": [
    "# copy function"
   ]
  },
  {
   "cell_type": "code",
   "execution_count": 14,
   "metadata": {},
   "outputs": [
    {
     "name": "stdout",
     "output_type": "stream",
     "text": [
      "['maths subject', 'arts', 'evs', 'geography', 'civics', 'history', 'biology', 'maths', 'chemistry', 'physics', 'english', 'hindi', 'machine learning']\n"
     ]
    }
   ],
   "source": [
    "x=lit.copy() \n",
    "print(x)"
   ]
  },
  {
   "attachments": {},
   "cell_type": "markdown",
   "metadata": {},
   "source": [
    "# sort function"
   ]
  },
  {
   "cell_type": "code",
   "execution_count": 15,
   "metadata": {},
   "outputs": [
    {
     "name": "stdout",
     "output_type": "stream",
     "text": [
      "['arts', 'biology', 'chemistry', 'civics', 'english', 'evs', 'geography', 'hindi', 'history', 'machine learning', 'maths', 'maths subject', 'physics']\n"
     ]
    }
   ],
   "source": [
    "lit.sort()\n",
    "print(lit)"
   ]
  },
  {
   "attachments": {},
   "cell_type": "markdown",
   "metadata": {},
   "source": [
    "# extend function"
   ]
  },
  {
   "cell_type": "code",
   "execution_count": 17,
   "metadata": {},
   "outputs": [
    {
     "name": "stdout",
     "output_type": "stream",
     "text": [
      "['rice', 'momos', 'friedrice', 'kulfi', 'manchurian', 'vadapav', 'chai', 'shake', 'lassi']\n"
     ]
    }
   ],
   "source": [
    "a=['rice','momos','friedrice']\n",
    "b=['kulfi','manchurian','vadapav','chai','shake','lassi']\n",
    "a.extend(b)\n",
    "print(a)\n",
    "\n"
   ]
  },
  {
   "attachments": {},
   "cell_type": "markdown",
   "metadata": {},
   "source": [
    "# count function"
   ]
  },
  {
   "cell_type": "code",
   "execution_count": 29,
   "metadata": {},
   "outputs": [
    {
     "name": "stdout",
     "output_type": "stream",
     "text": [
      "2\n"
     ]
    }
   ],
   "source": [
    "a=['rice','momos','friedrice','kulfi','manchurian','vadapav','rice','chai','shake','lassi']\n",
    "x=a.count('rice')\n",
    "print(x)"
   ]
  },
  {
   "attachments": {},
   "cell_type": "markdown",
   "metadata": {},
   "source": [
    "# practice function "
   ]
  },
  {
   "cell_type": "code",
   "execution_count": 38,
   "metadata": {},
   "outputs": [
    {
     "name": "stdout",
     "output_type": "stream",
     "text": [
      "sum function using = 274\n"
     ]
    }
   ],
   "source": [
    "m=[11,15,18,24,26,29,34,38,39,40]\n",
    "s=sum(m)\n",
    "print(\"sum function using =\",s)"
   ]
  },
  {
   "cell_type": "code",
   "execution_count": 43,
   "metadata": {},
   "outputs": [
    {
     "ename": "SyntaxError",
     "evalue": "invalid syntax (3414019593.py, line 3)",
     "output_type": "error",
     "traceback": [
      "\u001b[1;36m  Cell \u001b[1;32mIn[43], line 3\u001b[1;36m\u001b[0m\n\u001b[1;33m    mi=(int)min(n)\u001b[0m\n\u001b[1;37m            ^\u001b[0m\n\u001b[1;31mSyntaxError\u001b[0m\u001b[1;31m:\u001b[0m invalid syntax\n"
     ]
    }
   ],
   "source": [
    "n=[11,15,18,24,26,29,34,38,39,40]\n",
    "print(n)\n",
    "mi=min(n)\n",
    "print(\"minimum number =\",mi)"
   ]
  }
 ],
 "metadata": {
  "kernelspec": {
   "display_name": "base",
   "language": "python",
   "name": "python3"
  },
  "language_info": {
   "codemirror_mode": {
    "name": "ipython",
    "version": 3
   },
   "file_extension": ".py",
   "mimetype": "text/x-python",
   "name": "python",
   "nbconvert_exporter": "python",
   "pygments_lexer": "ipython3",
   "version": "3.10.9"
  },
  "orig_nbformat": 4
 },
 "nbformat": 4,
 "nbformat_minor": 2
}
