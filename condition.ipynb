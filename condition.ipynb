{
 "cells": [
  {
   "attachments": {},
   "cell_type": "markdown",
   "metadata": {},
   "source": [
    "# conditional statement \n",
    "### if statement (multiple condition)"
   ]
  },
  {
   "cell_type": "code",
   "execution_count": 1,
   "metadata": {},
   "outputs": [
    {
     "name": "stdout",
     "output_type": "stream",
     "text": [
      "b is greater\n"
     ]
    }
   ],
   "source": [
    "a=5\n",
    "b=10\n",
    "c=15\n",
    "if a>b:\n",
    "    print(\"a is greater\")\n",
    "if a>c:\n",
    "    print(\" a is also greater than c\")\n",
    "if b>a:\n",
    "    print(\"b is greater\")\n",
    "if b>c:\n",
    "    print(\"b is greater than also c\")\n"
   ]
  },
  {
   "attachments": {},
   "cell_type": "markdown",
   "metadata": {},
   "source": [
    "## if else statement (single)"
   ]
  },
  {
   "cell_type": "code",
   "execution_count": 5,
   "metadata": {},
   "outputs": [
    {
     "name": "stdout",
     "output_type": "stream",
     "text": [
      "no is odd\n"
     ]
    }
   ],
   "source": [
    "a=15\n",
    "if a%2==0:\n",
    "    print(\"no is even\")\n",
    "else:\n",
    "    print(\"no is odd\") \n"
   ]
  },
  {
   "attachments": {},
   "cell_type": "markdown",
   "metadata": {},
   "source": [
    "### ELIF statement (multiple)"
   ]
  },
  {
   "cell_type": "code",
   "execution_count": 6,
   "metadata": {},
   "outputs": [
    {
     "name": "stdout",
     "output_type": "stream",
     "text": [
      "b is greater\n"
     ]
    }
   ],
   "source": [
    "a=5\n",
    "b=10\n",
    "c=15\n",
    "if a>b:\n",
    "    print(\"a is greater\")\n",
    "elif a>c:\n",
    "    print(\" a is also greater than c\")\n",
    "elif b>a:\n",
    "    print(\"b is greater\")\n",
    "elif b>c:\n",
    "    print(\"b is greater than also c\")\n",
    "else:\n",
    "    print(\"no is out of range😒\")"
   ]
  },
  {
   "attachments": {},
   "cell_type": "markdown",
   "metadata": {},
   "source": [
    "### Nested if statemnet"
   ]
  },
  {
   "cell_type": "code",
   "execution_count": 9,
   "metadata": {},
   "outputs": [
    {
     "name": "stdout",
     "output_type": "stream",
     "text": [
      "number is positive\n"
     ]
    }
   ],
   "source": [
    "num=15\n",
    "if num>=0:\n",
    "    if num==0:\n",
    "        print(\"number is zero\")\n",
    "    else:\n",
    "        print(\"number is positive\")\n",
    "else:\n",
    "    print(\"number is negative\")"
   ]
  },
  {
   "attachments": {},
   "cell_type": "markdown",
   "metadata": {},
   "source": [
    "### nested if"
   ]
  },
  {
   "cell_type": "code",
   "execution_count": 1,
   "metadata": {},
   "outputs": [
    {
     "name": "stdout",
     "output_type": "stream",
     "text": [
      "Hurry\n"
     ]
    }
   ],
   "source": [
    "username=input(\"Enter your name\")\n",
    "email=input(\"Enter your email\")\n",
    "pwd=input(\"Enter new password\")\n",
    "pwd2=input(\"Enter confirm your password\")\n",
    "\n",
    "if len(username)>=4 and len(username)<=15:\n",
    "    if '@' in email and email.islower() and len(email)>10:\n",
    "        if len(pwd)>=6 and pwd!=username:\n",
    "            if pwd==pwd2:\n",
    "               print(\"😂😂Hurry😂😂\")\n",
    "               print(\"username\")\n",
    "            else:\n",
    "               print(\"password did not match\") \n",
    "        else:\n",
    "             print(\"password  is invalid\")\n",
    "    else:\n",
    "         print(\"email is invalid\")\n",
    "else:\n",
    "     print(\"username is invalid\")"
   ]
  }
 ],
 "metadata": {
  "kernelspec": {
   "display_name": "base",
   "language": "python",
   "name": "python3"
  },
  "language_info": {
   "codemirror_mode": {
    "name": "ipython",
    "version": 3
   },
   "file_extension": ".py",
   "mimetype": "text/x-python",
   "name": "python",
   "nbconvert_exporter": "python",
   "pygments_lexer": "ipython3",
   "version": "3.10.9"
  },
  "orig_nbformat": 4
 },
 "nbformat": 4,
 "nbformat_minor": 2
}
