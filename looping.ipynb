{
 "cells": [
  {
   "attachments": {},
   "cell_type": "markdown",
   "metadata": {},
   "source": [
    "# looping "
   ]
  },
  {
   "cell_type": "code",
   "execution_count": null,
   "metadata": {},
   "outputs": [],
   "source": [
    "l= [\"whatsapp\",\"facebook\",\"instagram\",\"snapchat\",\"youtube\",\"irctc\",\"redbus\",\"zoro\",\"radio\",\"gboard\",\"makemytrip\",\"ixigo\",\"zedge\",\"byjus\",\"spotify\",\"wikipedia\",\"castle\",\"canva\",\"inshot\",\"phonepe\",\"paytm\",\"gpay\",\"samsungmax\",\"mxplayer\"]\n",
    "print(len(l))\n",
    "print(f'total apps:{len(l)}')"
   ]
  },
  {
   "attachments": {},
   "cell_type": "markdown",
   "metadata": {},
   "source": [
    "# for loop\n"
   ]
  },
  {
   "cell_type": "code",
   "execution_count": 1,
   "metadata": {},
   "outputs": [
    {
     "name": "stdout",
     "output_type": "stream",
     "text": [
      "P\n",
      "Y\n",
      "T\n",
      "H\n",
      "O\n",
      "N\n"
     ]
    }
   ],
   "source": [
    "x=\"PYTHON\"\n",
    "for i in x:\n",
    "    print(i)\n",
    "    "
   ]
  },
  {
   "attachments": {},
   "cell_type": "markdown",
   "metadata": {},
   "source": [
    "## example 2"
   ]
  },
  {
   "cell_type": "code",
   "execution_count": null,
   "metadata": {},
   "outputs": [],
   "source": []
  },
  {
   "cell_type": "code",
   "execution_count": 11,
   "metadata": {},
   "outputs": [
    {
     "name": "stdout",
     "output_type": "stream",
     "text": [
      "whatsapp\n",
      "facebook\n",
      "instagram\n",
      "snapchat\n",
      "youtube\n",
      "irctc\n",
      "redbus\n",
      "zoro\n",
      "radio\n",
      "gboard\n",
      "makemytrip\n",
      "ixigo\n",
      "zedge\n",
      "byjus\n",
      "spotify\n",
      "wikipedia\n",
      "castle\n",
      "canva\n",
      "inshot\n",
      "phonepe\n",
      "paytm\n",
      "gpay\n",
      "samsungmax\n",
      "mxplayer\n"
     ]
    }
   ],
   "source": [
    "x = [\"whatsapp\",\"facebook\",\"instagram\",\"snapchat\",\"youtube\",\"irctc\",\"redbus\",\"zoro\",\"radio\",\"gboard\",\"makemytrip\",\"ixigo\",\"zedge\",\"byjus\",\"spotify\",\"wikipedia\",\"castle\",\"canva\",\"inshot\",\"phonepe\",\"paytm\",\"gpay\",\"samsungmax\",\"mxplayer\"]\n",
    "for i in x:\n",
    "    print(i)\n",
    "    "
   ]
  },
  {
   "attachments": {},
   "cell_type": "markdown",
   "metadata": {},
   "source": [
    "## Example 2"
   ]
  },
  {
   "cell_type": "code",
   "execution_count": 6,
   "metadata": {},
   "outputs": [
    {
     "name": "stdout",
     "output_type": "stream",
     "text": [
      "I'm the best 😎\n",
      "I'm the best 😎\n",
      "I'm the best 😎\n",
      "I'm the best 😎\n",
      "I'm the best 😎\n",
      "I'm the best 😎\n",
      "I'm the best 😎\n",
      "I'm the best 😎\n"
     ]
    }
   ],
   "source": [
    "for i in range(8):\n",
    "    print(\"I'm the best 😎\")"
   ]
  },
  {
   "attachments": {},
   "cell_type": "markdown",
   "metadata": {},
   "source": [
    "# Example 3"
   ]
  },
  {
   "cell_type": "code",
   "execution_count": 2,
   "metadata": {},
   "outputs": [
    {
     "name": "stdout",
     "output_type": "stream",
     "text": [
      "['instagram', 'snapchat', 'youtube', 'irctc', 'redbus', 'zoro', 'radio', 'gboard']\n",
      "['instagram', 'snapchat', 'youtube', 'irctc', 'redbus', 'zoro', 'radio', 'gboard']\n",
      "['instagram', 'snapchat', 'youtube', 'irctc', 'redbus', 'zoro', 'radio', 'gboard']\n",
      "['instagram', 'snapchat', 'youtube', 'irctc', 'redbus', 'zoro', 'radio', 'gboard']\n",
      "['instagram', 'snapchat', 'youtube', 'irctc', 'redbus', 'zoro', 'radio', 'gboard']\n",
      "['instagram', 'snapchat', 'youtube', 'irctc', 'redbus', 'zoro', 'radio', 'gboard']\n",
      "['instagram', 'snapchat', 'youtube', 'irctc', 'redbus', 'zoro', 'radio', 'gboard']\n",
      "['instagram', 'snapchat', 'youtube', 'irctc', 'redbus', 'zoro', 'radio', 'gboard']\n",
      "['instagram', 'snapchat', 'youtube', 'irctc', 'redbus', 'zoro', 'radio', 'gboard']\n",
      "['instagram', 'snapchat', 'youtube', 'irctc', 'redbus', 'zoro', 'radio', 'gboard']\n",
      "['instagram', 'snapchat', 'youtube', 'irctc', 'redbus', 'zoro', 'radio', 'gboard']\n",
      "['instagram', 'snapchat', 'youtube', 'irctc', 'redbus', 'zoro', 'radio', 'gboard']\n",
      "['instagram', 'snapchat', 'youtube', 'irctc', 'redbus', 'zoro', 'radio', 'gboard']\n",
      "['instagram', 'snapchat', 'youtube', 'irctc', 'redbus', 'zoro', 'radio', 'gboard']\n",
      "['instagram', 'snapchat', 'youtube', 'irctc', 'redbus', 'zoro', 'radio', 'gboard']\n",
      "['instagram', 'snapchat', 'youtube', 'irctc', 'redbus', 'zoro', 'radio', 'gboard']\n",
      "['instagram', 'snapchat', 'youtube', 'irctc', 'redbus', 'zoro', 'radio', 'gboard']\n",
      "['instagram', 'snapchat', 'youtube', 'irctc', 'redbus', 'zoro', 'radio', 'gboard']\n",
      "['instagram', 'snapchat', 'youtube', 'irctc', 'redbus', 'zoro', 'radio', 'gboard']\n",
      "['instagram', 'snapchat', 'youtube', 'irctc', 'redbus', 'zoro', 'radio', 'gboard']\n",
      "['instagram', 'snapchat', 'youtube', 'irctc', 'redbus', 'zoro', 'radio', 'gboard']\n",
      "['instagram', 'snapchat', 'youtube', 'irctc', 'redbus', 'zoro', 'radio', 'gboard']\n",
      "['instagram', 'snapchat', 'youtube', 'irctc', 'redbus', 'zoro', 'radio', 'gboard']\n",
      "['instagram', 'snapchat', 'youtube', 'irctc', 'redbus', 'zoro', 'radio', 'gboard']\n"
     ]
    }
   ],
   "source": [
    "x = [\"whatsapp\",\"facebook\",\"instagram\",\"snapchat\",\"youtube\",\"irctc\",\"redbus\",\"zoro\",\"radio\",\"gboard\",\"makemytrip\",\"ixigo\",\"zedge\",\"byjus\",\"spotify\",\"wikipedia\",\"castle\",\"canva\",\"inshot\",\"phonepe\",\"paytm\",\"gpay\",\"samsungmax\",\"mxplayer\"]\n",
    "for i in x:\n",
    "    print(x[2:10])"
   ]
  },
  {
   "attachments": {},
   "cell_type": "markdown",
   "metadata": {},
   "source": [
    "# Example 4\n"
   ]
  },
  {
   "cell_type": "code",
   "execution_count": 18,
   "metadata": {},
   "outputs": [
    {
     "name": "stdout",
     "output_type": "stream",
     "text": [
      "whatsapp|8\n",
      "facebook|8\n",
      "instagram|9\n",
      "snapchat|8\n",
      "youtube|7\n",
      "irctc|5\n",
      "redbus|6\n",
      "zoro|4\n",
      "radio|5\n",
      "gboard|6\n",
      "makemytrip|10\n",
      "ixigo|5\n",
      "zedge|5\n",
      "byjus|5\n",
      "spotify|7\n",
      "wikipedia|9\n",
      "castle|6\n",
      "canva|5\n",
      "inshot|6\n",
      "phonepe|7\n",
      "paytm|5\n",
      "gpay|4\n",
      "samsungmax|10\n",
      "mxplayer|8\n"
     ]
    }
   ],
   "source": [
    "x = [\"whatsapp\",\"facebook\",\"instagram\",\"snapchat\",\"youtube\",\"irctc\",\"redbus\",\"zoro\",\"radio\",\"gboard\",\"makemytrip\",\"ixigo\",\"zedge\",\"byjus\",\"spotify\",\"wikipedia\",\"castle\",\"canva\",\"inshot\",\"phonepe\",\"paytm\",\"gpay\",\"samsungmax\",\"mxplayer\"]\n",
    "for i in x:\n",
    "    print(f'{i}|{len(i)}')"
   ]
  },
  {
   "attachments": {},
   "cell_type": "markdown",
   "metadata": {},
   "source": [
    "# example 5"
   ]
  },
  {
   "cell_type": "code",
   "execution_count": 22,
   "metadata": {},
   "outputs": [
    {
     "name": "stdout",
     "output_type": "stream",
     "text": [
      "\n",
      "N\n",
      "NN\n",
      "NNN\n",
      "NNNN\n"
     ]
    }
   ],
   "source": [
    "for x in range(5):\n",
    "    print(x*'N')"
   ]
  },
  {
   "attachments": {},
   "cell_type": "markdown",
   "metadata": {},
   "source": [
    "# example 5 "
   ]
  },
  {
   "cell_type": "code",
   "execution_count": 23,
   "metadata": {},
   "outputs": [
    {
     "name": "stdout",
     "output_type": "stream",
     "text": [
      "NNNNN\n",
      "NNNNNN\n",
      "NNNNNNN\n",
      "NNNNNNNN\n",
      "NNNNNNNNN\n"
     ]
    }
   ],
   "source": [
    "for x in range(5,10):\n",
    "    print(x*'N')"
   ]
  },
  {
   "attachments": {},
   "cell_type": "markdown",
   "metadata": {},
   "source": [
    "# example 6"
   ]
  },
  {
   "cell_type": "code",
   "execution_count": 24,
   "metadata": {},
   "outputs": [
    {
     "name": "stdout",
     "output_type": "stream",
     "text": [
      "0*1*2*3*4*5*6*7*8*9*10*11*12*13*14*15*16*17*18*19*20*21*22*23*24*25*26*27*28*29*30*31*32*33*34*35*36*37*38*39*40*41*42*43*44*45*46*47*48*49*50*51*52*53*54*55*56*57*58*59*60*61*62*63*64*65*66*67*68*69*70*71*72*73*74*75*76*77*78*79*80*81*82*83*84*85*86*87*88*89*90*91*92*93*94*95*96*97*98*99*"
     ]
    }
   ],
   "source": [
    "for x in range(100):\n",
    "    print(x,end=\"*\")"
   ]
  },
  {
   "attachments": {},
   "cell_type": "markdown",
   "metadata": {},
   "source": [
    "# Example 7"
   ]
  },
  {
   "cell_type": "code",
   "execution_count": 26,
   "metadata": {},
   "outputs": [
    {
     "name": "stdout",
     "output_type": "stream",
     "text": [
      "(0, 10)\n",
      "(1, 20)\n",
      "(2, 30)\n",
      "(3, 40)\n",
      "(4, 50)\n",
      "(5, 60)\n"
     ]
    }
   ],
   "source": [
    "data =[10,20,30,40,50,60]\n",
    "for x in enumerate(data):\n",
    "    print(x)"
   ]
  },
  {
   "attachments": {},
   "cell_type": "markdown",
   "metadata": {},
   "source": [
    "# Example 8\n"
   ]
  },
  {
   "cell_type": "code",
   "execution_count": 28,
   "metadata": {},
   "outputs": [
    {
     "name": "stdout",
     "output_type": "stream",
     "text": [
      "21\n",
      "32\n",
      "43\n",
      "54\n",
      "65\n",
      "76\n"
     ]
    }
   ],
   "source": [
    "# non pythonic\n",
    "x=[10,20,30,40,50,60]\n",
    "y=[11,12,13,14,15,16,17,18]\n",
    "for i in range(len(x)):\n",
    "    o=x[i]+y[i]\n",
    "    print(o)"
   ]
  },
  {
   "attachments": {},
   "cell_type": "markdown",
   "metadata": {},
   "source": [
    "# Example 9"
   ]
  },
  {
   "cell_type": "code",
   "execution_count": 31,
   "metadata": {},
   "outputs": [
    {
     "name": "stdout",
     "output_type": "stream",
     "text": [
      "21\n",
      "32\n",
      "43\n",
      "54\n",
      "65\n",
      "76\n"
     ]
    }
   ],
   "source": [
    "# pythonic\n",
    "for i,j in zip(x,y):\n",
    "    o=i+j\n",
    "    print(o)"
   ]
  },
  {
   "attachments": {},
   "cell_type": "markdown",
   "metadata": {},
   "source": [
    "# Example 10"
   ]
  },
  {
   "cell_type": "code",
   "execution_count": 36,
   "metadata": {},
   "outputs": [
    {
     "name": "stdout",
     "output_type": "stream",
     "text": [
      "30\n",
      "150\n",
      "24\n",
      "350\n",
      "36\n",
      "624\n",
      "44\n",
      "1792\n",
      "43\n",
      "1701\n",
      "31\n",
      "756\n",
      "39\n",
      "1824\n",
      "66\n",
      "2244\n",
      "41\n",
      "1495\n",
      "28\n",
      "336\n"
     ]
    }
   ],
   "source": [
    "x=[2,5,4,8,7,6,12,51,23,14,27,15]\n",
    "y=[3,5,6,8,9,7,8,4,5,2,3,6,4,2,6]\n",
    "z=[25,14,26,28,27,18,19,11,13,12]\n",
    "for i,j,k in zip(x,y,z):\n",
    "    o=i+j+k\n",
    "    p=i*j*k\n",
    "    print(o)\n",
    "    print(\"\"p)"
   ]
  },
  {
   "attachments": {},
   "cell_type": "markdown",
   "metadata": {},
   "source": [
    "# example 11 practice"
   ]
  },
  {
   "cell_type": "code",
   "execution_count": 24,
   "metadata": {},
   "outputs": [
    {
     "name": "stdout",
     "output_type": "stream",
     "text": [
      "9\n",
      "10\n",
      "11\n",
      "12\n",
      "13\n",
      "14\n",
      "15\n",
      "16\n",
      "17\n",
      "18\n"
     ]
    }
   ],
   "source": [
    "s=8\n",
    "for i in range(1,11):\n",
    "    print(s+i)"
   ]
  },
  {
   "attachments": {},
   "cell_type": "markdown",
   "metadata": {},
   "source": [
    "# EXAMPLE P12 "
   ]
  },
  {
   "cell_type": "code",
   "execution_count": 5,
   "metadata": {},
   "outputs": [
    {
     "name": "stdout",
     "output_type": "stream",
     "text": [
      "5 X 1 = 5\n",
      "5 X 2 = 10\n",
      "5 X 3 = 15\n",
      "5 X 4 = 20\n",
      "5 X 5 = 25\n",
      "5 X 6 = 30\n",
      "5 X 7 = 35\n",
      "5 X 8 = 40\n",
      "5 X 9 = 45\n",
      "5 X 10 = 50\n"
     ]
    }
   ],
   "source": [
    "for i in range(1,11):\n",
    "    print(5,'X',i,'=',5*i)"
   ]
  },
  {
   "cell_type": "code",
   "execution_count": 10,
   "metadata": {},
   "outputs": [
    {
     "name": "stdout",
     "output_type": "stream",
     "text": [
      "ASCII code for message\n"
     ]
    },
    {
     "ename": "TypeError",
     "evalue": "string indices must be integers",
     "output_type": "error",
     "traceback": [
      "\u001b[1;31m---------------------------------------------------------------------------\u001b[0m",
      "\u001b[1;31mTypeError\u001b[0m                                 Traceback (most recent call last)",
      "Cell \u001b[1;32mIn[10], line 4\u001b[0m\n\u001b[0;32m      2\u001b[0m \u001b[39mprint\u001b[39m(\u001b[39m\"\u001b[39m\u001b[39mASCII code for message\u001b[39m\u001b[39m\"\u001b[39m)\n\u001b[0;32m      3\u001b[0m \u001b[39mfor\u001b[39;00m i \u001b[39min\u001b[39;00m m: \n\u001b[1;32m----> 4\u001b[0m     \u001b[39mprint\u001b[39m(m[i],\u001b[39m\"\u001b[39m\u001b[39m=\u001b[39m\u001b[39m\"\u001b[39m,\u001b[39mord\u001b[39m(i))\n",
      "\u001b[1;31mTypeError\u001b[0m: string indices must be integers"
     ]
    }
   ],
   "source": [
    "m=input(\"Enter word\")\n",
    "print(\"ASCII code for message\")\n",
    "for i in m: \n",
    "    print(m[i],\"=\",ord(i))"
   ]
  },
  {
   "attachments": {},
   "cell_type": "markdown",
   "metadata": {},
   "source": [
    "# example practice"
   ]
  },
  {
   "cell_type": "code",
   "execution_count": 6,
   "metadata": {},
   "outputs": [
    {
     "name": "stdout",
     "output_type": "stream",
     "text": [
      "ASCII code for message\n",
      "abcd = 97\n",
      "abcd = 98\n",
      "abcd = 99\n",
      "abcd = 100\n"
     ]
    }
   ],
   "source": [
    "m=input(\"Enter word\")\n",
    "print(\"ASCII code for message\")\n",
    "for i in m: \n",
    "    print(m,\"=\",ord(i))"
   ]
  },
  {
   "attachments": {},
   "cell_type": "markdown",
   "metadata": {},
   "source": [
    "# evenodd p1"
   ]
  },
  {
   "cell_type": "code",
   "execution_count": 13,
   "metadata": {},
   "outputs": [
    {
     "name": "stdout",
     "output_type": "stream",
     "text": [
      "2\n",
      "4\n",
      "6\n",
      "8\n",
      "10\n",
      "12\n",
      "14\n",
      "16\n",
      "18\n",
      "20\n",
      "22\n",
      "24\n",
      "26\n",
      "28\n",
      "30\n",
      "32\n",
      "34\n",
      "36\n",
      "38\n",
      "40\n",
      "42\n",
      "44\n",
      "46\n",
      "48\n",
      "50\n"
     ]
    }
   ],
   "source": [
    "for i in range(1,51):\n",
    "    if i%2==0:\n",
    "        print(i)"
   ]
  },
  {
   "attachments": {},
   "cell_type": "markdown",
   "metadata": {},
   "source": [
    "# evenodd p2"
   ]
  },
  {
   "cell_type": "code",
   "execution_count": 17,
   "metadata": {},
   "outputs": [
    {
     "name": "stdout",
     "output_type": "stream",
     "text": [
      "0\n",
      "2\n",
      "4\n",
      "6\n",
      "8\n",
      "10\n",
      "12\n",
      "14\n",
      "16\n",
      "18\n",
      "20\n",
      "22\n",
      "24\n",
      "26\n",
      "28\n",
      "30\n",
      "32\n",
      "34\n",
      "36\n",
      "38\n",
      "40\n",
      "42\n",
      "44\n",
      "46\n",
      "48\n",
      "50\n"
     ]
    }
   ],
   "source": [
    "print(\"Even\")\n",
    "for i in range(0,51,2):\n",
    "    print(i)"
   ]
  },
  {
   "attachments": {},
   "cell_type": "markdown",
   "metadata": {},
   "source": [
    "# odd pro."
   ]
  },
  {
   "cell_type": "code",
   "execution_count": 18,
   "metadata": {},
   "outputs": [
    {
     "name": "stdout",
     "output_type": "stream",
     "text": [
      "Odd\n",
      "1\n",
      "3\n",
      "5\n",
      "7\n",
      "9\n",
      "11\n",
      "13\n",
      "15\n",
      "17\n",
      "19\n",
      "21\n",
      "23\n",
      "25\n",
      "27\n",
      "29\n",
      "31\n",
      "33\n",
      "35\n",
      "37\n",
      "39\n",
      "41\n",
      "43\n",
      "45\n",
      "47\n",
      "49\n"
     ]
    }
   ],
   "source": [
    "print(\"Odd\")\n",
    "for i in range(1,51,2):\n",
    "    print(i)"
   ]
  },
  {
   "attachments": {},
   "cell_type": "markdown",
   "metadata": {},
   "source": [
    "# Sum of sqaure each element"
   ]
  },
  {
   "cell_type": "code",
   "execution_count": 29,
   "metadata": {},
   "outputs": [
    {
     "name": "stdout",
     "output_type": "stream",
     "text": [
      "1\n",
      "4\n",
      "9\n",
      "16\n",
      "25\n",
      "sum is = 55\n"
     ]
    }
   ],
   "source": [
    "a=[1,2,3,4,5]\n",
    "sum=0\n",
    "for i in a:\n",
    "    s= i**2\n",
    "    sum=sum+s\n",
    "    print(s)\n",
    "print(\"sum is =\",sum)    "
   ]
  },
  {
   "attachments": {},
   "cell_type": "markdown",
   "metadata": {},
   "source": [
    "# practice example"
   ]
  },
  {
   "cell_type": "code",
   "execution_count": 38,
   "metadata": {},
   "outputs": [
    {
     "name": "stdout",
     "output_type": "stream",
     "text": [
      "sum of digit\n",
      "val r = 5\n",
      "val r = 3\n",
      "val r = 1\n",
      "Sum of digit :  9\n"
     ]
    }
   ],
   "source": [
    "m=(input(\"Enter Number\"))\n",
    "c= len(m)\n",
    "m=int(m)\n",
    "s=0\n",
    "r=0\n",
    "print(\"sum of digit\")\n",
    "for i in range(1,c+1) :\n",
    "    r=m % 10 \n",
    "    print(\"val r =\",r)\n",
    "    s=s+r\n",
    "    m=m-r\n",
    "    m=int(m/10)\n",
    "print(\"Sum of digit : \",s)    \n",
    "\n"
   ]
  },
  {
   "cell_type": "code",
   "execution_count": 39,
   "metadata": {},
   "outputs": [
    {
     "name": "stdout",
     "output_type": "stream",
     "text": [
      "sum of digit\n",
      "Sum of digit :  11\n"
     ]
    }
   ],
   "source": [
    "m=(input(\"Enter Number\"))\n",
    "c= len(m)\n",
    "m=int(m)\n",
    "s=0\n",
    "r=0\n",
    "for i in range(1,c+1) :\n",
    "    s=s+(m % 10) \n",
    "    s=s+r\n",
    "    m=int(m/10)\n",
    "print(\"Sum of digit : \",s)    "
   ]
  },
  {
   "attachments": {},
   "cell_type": "markdown",
   "metadata": {},
   "source": [
    "# sum of digits second pro"
   ]
  },
  {
   "cell_type": "code",
   "execution_count": 44,
   "metadata": {},
   "outputs": [
    {
     "name": "stdout",
     "output_type": "stream",
     "text": [
      "Entered number 365\n",
      "sum of digits =  14\n"
     ]
    }
   ],
   "source": [
    "num = input(\"Enter a number\")\n",
    "print(\"Entered number\",num)\n",
    "sum=0\n",
    "for digit in num:\n",
    "    sum=sum+int(digit)\n",
    "print(\"sum of digits = \",sum )    "
   ]
  },
  {
   "attachments": {},
   "cell_type": "markdown",
   "metadata": {},
   "source": [
    "# while loop"
   ]
  },
  {
   "cell_type": "code",
   "execution_count": 45,
   "metadata": {},
   "outputs": [
    {
     "name": "stdout",
     "output_type": "stream",
     "text": [
      "run\n",
      "run\n",
      "run\n",
      "run\n",
      "stop\n"
     ]
    }
   ],
   "source": [
    "x=1\n",
    "while x<5:\n",
    "    print('run')\n",
    "    x=x+1\n",
    "print(\"stop\")"
   ]
  },
  {
   "attachments": {},
   "cell_type": "markdown",
   "metadata": {},
   "source": [
    "# practice program while loop ( odd)"
   ]
  },
  {
   "cell_type": "code",
   "execution_count": 46,
   "metadata": {},
   "outputs": [
    {
     "name": "stdout",
     "output_type": "stream",
     "text": [
      "5\n",
      "7\n",
      "9\n",
      "11\n",
      "13\n",
      "15\n",
      "17\n",
      "19\n",
      "21\n",
      "23\n",
      "25\n",
      "27\n",
      "29\n",
      "31\n",
      "33\n",
      "35\n",
      "37\n",
      "39\n",
      "41\n",
      "43\n",
      "45\n",
      "47\n",
      "49\n",
      "stop\n"
     ]
    }
   ],
   "source": [
    "a=1\n",
    "while x<50:\n",
    "    print(x)\n",
    "    x=x+2\n",
    "print(\"stop\")"
   ]
  },
  {
   "attachments": {},
   "cell_type": "markdown",
   "metadata": {},
   "source": [
    "pract"
   ]
  },
  {
   "cell_type": "code",
   "execution_count": 51,
   "metadata": {},
   "outputs": [
    {
     "name": "stdout",
     "output_type": "stream",
     "text": [
      "1\n",
      "2\n",
      "3\n",
      "4\n",
      "5\n",
      "6\n",
      "7\n",
      "8\n",
      "9\n",
      "10\n",
      "11\n",
      "12\n",
      "13\n",
      "14\n",
      "15\n",
      "16\n",
      "17\n",
      "18\n",
      "19\n",
      "20\n"
     ]
    }
   ],
   "source": [
    "x=1\n",
    "while x<=20:\n",
    "    print(x)\n",
    "    x=x+1\n"
   ]
  },
  {
   "attachments": {},
   "cell_type": "markdown",
   "metadata": {},
   "source": [
    "continue\n"
   ]
  },
  {
   "cell_type": "code",
   "execution_count": 62,
   "metadata": {},
   "outputs": [
    {
     "name": "stdout",
     "output_type": "stream",
     "text": [
      "1\n",
      "3\n",
      "5\n",
      "7\n",
      "9\n",
      "11\n",
      "13\n",
      "15\n",
      "17\n",
      "19\n",
      "21\n",
      "23\n",
      "25\n",
      "27\n",
      "29\n",
      "31\n",
      "33\n",
      "35\n",
      "37\n",
      "39\n",
      "41\n",
      "43\n",
      "45\n",
      "47\n",
      "49\n"
     ]
    }
   ],
   "source": [
    " for i in range(50) :\n",
    "    if(i%2==0) :\n",
    "        continue\n",
    "    print(i)"
   ]
  },
  {
   "attachments": {},
   "cell_type": "markdown",
   "metadata": {},
   "source": [
    "# while loop program pratice (factorial)"
   ]
  },
  {
   "cell_type": "code",
   "execution_count": 49,
   "metadata": {},
   "outputs": [
    {
     "name": "stdout",
     "output_type": "stream",
     "text": [
      " fact=  120\n"
     ]
    }
   ],
   "source": [
    "a=int(input(\"Enter number to find factorial\"))\n",
    "f=1\n",
    "while a>=1:\n",
    "    f=f*a\n",
    "    a=a-1\n",
    "print(\" fact = \",f)"
   ]
  },
  {
   "attachments": {},
   "cell_type": "markdown",
   "metadata": {},
   "source": [
    "# digit  first and last equal"
   ]
  },
  {
   "cell_type": "code",
   "execution_count": 3,
   "metadata": {},
   "outputs": [
    {
     "name": "stdout",
     "output_type": "stream",
     "text": [
      "digit match\n",
      "digit match\n"
     ]
    }
   ],
   "source": [
    "m=input(\"Enter a number\")\n",
    "i=0\n",
    "c=len(m)\n",
    "if c%2==0:\n",
    "    for dig in m :\n",
    "        if i==c:\n",
    "            break \n",
    "        else:\n",
    "         if dig ==m[c-1] :\n",
    "            print(\"digit match\")\n",
    "    i+=1\n",
    "    c-=1\n",
    "        \n",
    "       "
   ]
  },
  {
   "attachments": {},
   "cell_type": "markdown",
   "metadata": {},
   "source": [
    "## digit match first n last"
   ]
  },
  {
   "cell_type": "code",
   "execution_count": 7,
   "metadata": {},
   "outputs": [
    {
     "name": "stdout",
     "output_type": "stream",
     "text": [
      "digit match\n"
     ]
    }
   ],
   "source": [
    "m=input(\"Enter a number\")\n",
    "i=0\n",
    "c=len(m)\n",
    "if c%2==0:\n",
    "    for dig in m :\n",
    "        if m[i]==m[c-1]:\n",
    "            print(\"digit match\")\n",
    "            break \n",
    "        else:\n",
    "            print(\"Not match digits\")\n",
    "            break\n",
    "    i+=1\n",
    "    "
   ]
  },
  {
   "attachments": {},
   "cell_type": "markdown",
   "metadata": {},
   "source": [
    "# disarium number\n"
   ]
  },
  {
   "cell_type": "code",
   "execution_count": 10,
   "metadata": {},
   "outputs": [
    {
     "name": "stdout",
     "output_type": "stream",
     "text": [
      "Number Entered =  135\n",
      "count digit = 3\n",
      "n is 0\n",
      "125 5 2\n",
      "134 3 1\n",
      "135 1 0\n",
      "o is 0\n",
      "s is 135\n",
      "Disarium Number\n"
     ]
    }
   ],
   "source": [
    "n=int(input(\"Enter a number\"))\n",
    "print(\"Number Entered = \",n)\n",
    "c=0\n",
    "s=0\n",
    "o=m=n\n",
    "while n>0:\n",
    "    r=n%10\n",
    "    c=c+1\n",
    "    n=n//10\n",
    "while o>0:\n",
    "    rm=o%10\n",
    "    s=s+rm**c\n",
    "    c-=1\n",
    "    print(s,rm, c)\n",
    "    o=o//10\n",
    "\n",
    "\n",
    "    \n",
    "if s==m:\n",
    "        print(\"Disarium Number\")\n",
    "else:\n",
    "        print(\"not disarium number\") \n",
    "   \n"
   ]
  },
  {
   "attachments": {},
   "cell_type": "markdown",
   "metadata": {},
   "source": [
    "# series using while loop"
   ]
  },
  {
   "cell_type": "code",
   "execution_count": 4,
   "metadata": {},
   "outputs": [
    {
     "name": "stdout",
     "output_type": "stream",
     "text": [
      "3\n",
      "8\n",
      "15\n",
      "24\n",
      "35\n",
      "48\n",
      "63\n",
      "80\n",
      "99\n"
     ]
    }
   ],
   "source": [
    "n=int(input(\"Enter number to print series\"))\n",
    "a=1\n",
    "while a<=n:  \n",
    " print((a*a)-1)\n",
    " a=a+1"
   ]
  },
  {
   "attachments": {},
   "cell_type": "markdown",
   "metadata": {},
   "source": [
    "# series 2 using while loop"
   ]
  },
  {
   "cell_type": "code",
   "execution_count": 5,
   "metadata": {},
   "outputs": [
    {
     "name": "stdout",
     "output_type": "stream",
     "text": [
      "2\n",
      "5\n",
      "10\n",
      "17\n",
      "26\n"
     ]
    }
   ],
   "source": [
    "n=int(input(\"Enter number to print series\"))\n",
    "a=1\n",
    "while a<=n:  \n",
    " print((a*a)+1)\n",
    " a=a+1"
   ]
  },
  {
   "attachments": {},
   "cell_type": "markdown",
   "metadata": {},
   "source": [
    "# pattern practice using while"
   ]
  },
  {
   "cell_type": "code",
   "execution_count": 11,
   "metadata": {},
   "outputs": [
    {
     "name": "stdout",
     "output_type": "stream",
     "text": [
      "*\n",
      "*\n",
      "*\n",
      "*\n",
      "*\n",
      "*\n",
      "*\n",
      "*\n",
      "*\n",
      "*\n",
      "\n",
      "\n"
     ]
    }
   ],
   "source": [
    "n=int(input(\"Enter number to print series\"))\n",
    "i=1\n",
    "j=1\n",
    "for i in range(n):\n",
    "  for j in range(i):\n",
    "    print(\"*\")\n",
    "  \n",
    "print(\"\\n\")\n"
   ]
  },
  {
   "attachments": {},
   "cell_type": "markdown",
   "metadata": {},
   "source": [
    "# pattern 2"
   ]
  },
  {
   "cell_type": "code",
   "execution_count": 13,
   "metadata": {},
   "outputs": [
    {
     "name": "stdout",
     "output_type": "stream",
     "text": [
      "1\n",
      "2\n",
      "2\n",
      "3\n",
      "3\n",
      "3\n",
      "4\n",
      "4\n",
      "4\n",
      "4\n",
      "\n",
      "\n"
     ]
    }
   ],
   "source": [
    "n=int(input(\"Enter number to print series\"))\n",
    "i=1\n",
    "j=1\n",
    "for i in range(n):\n",
    "  for j in range(i):\n",
    "    print(i)\n",
    "print(\"\\n\")"
   ]
  },
  {
   "attachments": {},
   "cell_type": "markdown",
   "metadata": {},
   "source": [
    "# pattern 3\n"
   ]
  },
  {
   "cell_type": "code",
   "execution_count": 1,
   "metadata": {},
   "outputs": [
    {
     "name": "stdout",
     "output_type": "stream",
     "text": [
      "*\n",
      "**\n",
      "***\n",
      "****\n",
      "*****\n"
     ]
    }
   ],
   "source": [
    "\n",
    "for i in range(1,6):\n",
    "    print(i*'*')\n"
   ]
  },
  {
   "cell_type": "markdown",
   "metadata": {},
   "source": [
    "# practice pattern "
   ]
  },
  {
   "cell_type": "code",
   "execution_count": 8,
   "metadata": {},
   "outputs": [
    {
     "name": "stdout",
     "output_type": "stream",
     "text": [
      "1\n",
      "22\n",
      "333\n",
      "4444\n",
      "55555\n"
     ]
    }
   ],
   "source": [
    "r=5\n",
    "\n",
    "for i in range(r):\n",
    "    for j in range(i+1):\n",
    "        print(i+1,end=\"\")\n",
    "    print()"
   ]
  }
 ],
 "metadata": {
  "kernelspec": {
   "display_name": "base",
   "language": "python",
   "name": "python3"
  },
  "language_info": {
   "codemirror_mode": {
    "name": "ipython",
    "version": 3
   },
   "file_extension": ".py",
   "mimetype": "text/x-python",
   "name": "python",
   "nbconvert_exporter": "python",
   "pygments_lexer": "ipython3",
   "version": "3.10.9"
  },
  "orig_nbformat": 4
 },
 "nbformat": 4,
 "nbformat_minor": 2
}
