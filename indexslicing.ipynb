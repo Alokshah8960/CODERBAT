{
 "cells": [
  {
   "attachments": {},
   "cell_type": "markdown",
   "metadata": {},
   "source": [
    "# indexing (python)"
   ]
  },
  {
   "cell_type": "code",
   "execution_count": 2,
   "metadata": {},
   "outputs": [
    {
     "name": "stdout",
     "output_type": "stream",
     "text": [
      "maths\n",
      "civics\n"
     ]
    }
   ],
   "source": [
    "lit = [\"hindi\",\"english\",\"maths\",\"physics\",\"chemistry\",\"biology\",\"history\",\"civics\",\"geography\",\"evs\",\"arts\"]\n",
    "print(lit[2])\n",
    "print(lit[-4])"
   ]
  },
  {
   "attachments": {},
   "cell_type": "markdown",
   "metadata": {},
   "source": [
    "# slicing"
   ]
  },
  {
   "cell_type": "code",
   "execution_count": 8,
   "metadata": {},
   "outputs": [
    {
     "name": "stdout",
     "output_type": "stream",
     "text": [
      "\n",
      " ['maths', 'physics', 'chemistry']\n",
      "\n",
      " ['biology', 'history', 'civics', 'geography', 'evs', 'arts']\n",
      "\n",
      " ['hindi', 'english', 'maths', 'physics', 'chemistry', 'biology', 'history', 'civics', 'geography', 'evs', 'arts']\n",
      "\n",
      " ['english', 'physics']\n",
      "\n",
      " ['arts']\n",
      "\n",
      " ['maths', 'physics', 'chemistry']\n",
      "\n",
      " Character\n",
      "\n",
      " ['u']\n"
     ]
    }
   ],
   "source": [
    "l=['a','e','i','o','u']\n",
    "lit = [\"hindi\",\"english\",\"maths\",\"physics\",\"chemistry\",\"biology\",\"history\",\"civics\",\"geography\",\"evs\",\"arts\"]\n",
    "print(\"\\n\",lit[2:5])\n",
    "print(\"\\n\",lit[5:])\n",
    "print(\"\\n\",lit[:])\n",
    "print(\"\\n\",lit[1:5:2])\n",
    "print(\"\\n\",lit[-1:])\n",
    "print(\"\\n\",lit[2:5])\n",
    "print(\"\\n\",\"Character\")\n",
    "print(\"\\n\",l[-1:])"
   ]
  }
 ],
 "metadata": {
  "kernelspec": {
   "display_name": "base",
   "language": "python",
   "name": "python3"
  },
  "language_info": {
   "codemirror_mode": {
    "name": "ipython",
    "version": 3
   },
   "file_extension": ".py",
   "mimetype": "text/x-python",
   "name": "python",
   "nbconvert_exporter": "python",
   "pygments_lexer": "ipython3",
   "version": "3.10.9"
  },
  "orig_nbformat": 4
 },
 "nbformat": 4,
 "nbformat_minor": 2
}
